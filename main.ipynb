{
 "cells": [
  {
   "cell_type": "code",
   "execution_count": 1,
   "id": "3096e7fa",
   "metadata": {},
   "outputs": [],
   "source": [
    "import torch\n",
    "import torchvision.transforms as transforms\n",
    "from torchvision.datasets import ImageFolder\n",
    "from DataFolder import CustomTestDataFolder, CustomTrainDataFolder\n",
    "from DeepSVDD import DeepSVDD\n",
    "from isolation_forest import DeepIsolationForest\n",
    "import matplotlib.pyplot as plt\n",
    "import pandas as pd\n"
   ]
  },
  {
   "cell_type": "code",
   "execution_count": 2,
   "id": "beaae35a",
   "metadata": {},
   "outputs": [],
   "source": [
    "device = \"cuda\" if torch.cuda.is_available() else \"cpu\""
   ]
  },
  {
   "cell_type": "code",
   "execution_count": 3,
   "id": "422fbcaf",
   "metadata": {},
   "outputs": [],
   "source": [
    "transform = transforms.Compose([\n",
    "    transforms.Resize(256),\n",
    "    transforms.CenterCrop(224),\n",
    "    transforms.ToTensor(),\n",
    "    transforms.Normalize(mean=[0.485, 0.456, 0.406],std=[0.229, 0.224, 0.225])\n",
    "])"
   ]
  },
  {
   "cell_type": "code",
   "execution_count": 4,
   "id": "a0116ff5",
   "metadata": {},
   "outputs": [],
   "source": [
    "train_cifar_path = \"cifar10\\\\train\\\\airplane\"\n",
    "test_cifar_path = \"cifar10\\\\test\"\n",
    "train_cifar_path_forest = \"cifar10\\\\train\"\n"
   ]
  },
  {
   "cell_type": "code",
   "execution_count": 5,
   "id": "b712b969",
   "metadata": {},
   "outputs": [],
   "source": [
    "train_cifar = CustomTrainDataFolder(root=train_cifar_path, transform=transform)\n",
    "test_cifar = CustomTestDataFolder(root=test_cifar_path, transform=transform, normal_dir=\"airplane\")\n",
    "train_cifar_forest = ImageFolder(root=train_cifar_path_forest, transform=transform)\n"
   ]
  },
  {
   "cell_type": "code",
   "execution_count": 6,
   "id": "2237a507",
   "metadata": {},
   "outputs": [],
   "source": [
    "svdd_one_class = DeepSVDD(objective=\"one-class\",nu=None,n_epoch=20,device=device, lr=0.2)\n",
    "svdd_soft_boundary = DeepSVDD(objective=\"soft-boundary\",nu=0.1,n_epoch=20,device=device, lr=0.2)"
   ]
  },
  {
   "cell_type": "code",
   "execution_count": 7,
   "id": "401214b1",
   "metadata": {},
   "outputs": [
    {
     "name": "stderr",
     "output_type": "stream",
     "text": [
      "Epoch 1/20: 100%|██████████| 40/40 [01:22<00:00,  2.05s/it]\n"
     ]
    },
    {
     "name": "stdout",
     "output_type": "stream",
     "text": [
      "Epoch 1/20    : Loss 278.8456839323044\n"
     ]
    },
    {
     "name": "stderr",
     "output_type": "stream",
     "text": [
      "Epoch 2/20: 100%|██████████| 40/40 [01:05<00:00,  1.63s/it]\n"
     ]
    },
    {
     "name": "stdout",
     "output_type": "stream",
     "text": [
      "Epoch 2/20    : Loss 1.3173372503370047\n"
     ]
    },
    {
     "name": "stderr",
     "output_type": "stream",
     "text": [
      "Epoch 3/20: 100%|██████████| 40/40 [01:05<00:00,  1.63s/it]\n"
     ]
    },
    {
     "name": "stdout",
     "output_type": "stream",
     "text": [
      "Epoch 3/20    : Loss 0.08175188452005386\n"
     ]
    },
    {
     "name": "stderr",
     "output_type": "stream",
     "text": [
      "Epoch 4/20: 100%|██████████| 40/40 [01:06<00:00,  1.67s/it]\n"
     ]
    },
    {
     "name": "stdout",
     "output_type": "stream",
     "text": [
      "Epoch 4/20    : Loss 0.040597055852413175\n"
     ]
    },
    {
     "name": "stderr",
     "output_type": "stream",
     "text": [
      "Epoch 5/20: 100%|██████████| 40/40 [01:07<00:00,  1.69s/it]\n"
     ]
    },
    {
     "name": "stdout",
     "output_type": "stream",
     "text": [
      "Epoch 5/20    : Loss 0.031248014746233822\n"
     ]
    },
    {
     "name": "stderr",
     "output_type": "stream",
     "text": [
      "Epoch 6/20: 100%|██████████| 40/40 [01:07<00:00,  1.68s/it]\n"
     ]
    },
    {
     "name": "stdout",
     "output_type": "stream",
     "text": [
      "Epoch 6/20    : Loss 0.023465469712391496\n"
     ]
    },
    {
     "name": "stderr",
     "output_type": "stream",
     "text": [
      "Epoch 7/20: 100%|██████████| 40/40 [01:07<00:00,  1.70s/it]\n"
     ]
    },
    {
     "name": "stdout",
     "output_type": "stream",
     "text": [
      "Epoch 7/20    : Loss 0.01919105164706707\n"
     ]
    },
    {
     "name": "stderr",
     "output_type": "stream",
     "text": [
      "Epoch 8/20: 100%|██████████| 40/40 [01:08<00:00,  1.71s/it]\n"
     ]
    },
    {
     "name": "stdout",
     "output_type": "stream",
     "text": [
      "Epoch 8/20    : Loss 0.017065231502056123\n"
     ]
    },
    {
     "name": "stderr",
     "output_type": "stream",
     "text": [
      "Epoch 9/20: 100%|██████████| 40/40 [01:07<00:00,  1.69s/it]\n"
     ]
    },
    {
     "name": "stdout",
     "output_type": "stream",
     "text": [
      "Epoch 9/20    : Loss 0.014619055227376521\n"
     ]
    },
    {
     "name": "stderr",
     "output_type": "stream",
     "text": [
      "Epoch 10/20: 100%|██████████| 40/40 [01:07<00:00,  1.68s/it]\n"
     ]
    },
    {
     "name": "stdout",
     "output_type": "stream",
     "text": [
      "Epoch 10/20    : Loss 0.012959753815084695\n"
     ]
    },
    {
     "name": "stderr",
     "output_type": "stream",
     "text": [
      "Epoch 11/20: 100%|██████████| 40/40 [01:07<00:00,  1.68s/it]\n"
     ]
    },
    {
     "name": "stdout",
     "output_type": "stream",
     "text": [
      "Epoch 11/20    : Loss 0.012537082843482494\n"
     ]
    },
    {
     "name": "stderr",
     "output_type": "stream",
     "text": [
      "Epoch 12/20: 100%|██████████| 40/40 [01:07<00:00,  1.70s/it]\n"
     ]
    },
    {
     "name": "stdout",
     "output_type": "stream",
     "text": [
      "Epoch 12/20    : Loss 0.010005658655427397\n"
     ]
    },
    {
     "name": "stderr",
     "output_type": "stream",
     "text": [
      "Epoch 13/20: 100%|██████████| 40/40 [01:09<00:00,  1.75s/it]\n"
     ]
    },
    {
     "name": "stdout",
     "output_type": "stream",
     "text": [
      "Epoch 13/20    : Loss 0.009202930750325322\n"
     ]
    },
    {
     "name": "stderr",
     "output_type": "stream",
     "text": [
      "Epoch 14/20: 100%|██████████| 40/40 [01:05<00:00,  1.65s/it]\n"
     ]
    },
    {
     "name": "stdout",
     "output_type": "stream",
     "text": [
      "Epoch 14/20    : Loss 0.008184672123752535\n"
     ]
    },
    {
     "name": "stderr",
     "output_type": "stream",
     "text": [
      "Epoch 15/20: 100%|██████████| 40/40 [01:06<00:00,  1.66s/it]\n"
     ]
    },
    {
     "name": "stdout",
     "output_type": "stream",
     "text": [
      "Epoch 15/20    : Loss 0.00772074501728639\n"
     ]
    },
    {
     "name": "stderr",
     "output_type": "stream",
     "text": [
      "Epoch 16/20: 100%|██████████| 40/40 [01:07<00:00,  1.69s/it]\n"
     ]
    },
    {
     "name": "stdout",
     "output_type": "stream",
     "text": [
      "Epoch 16/20    : Loss 0.007167828059755266\n"
     ]
    },
    {
     "name": "stderr",
     "output_type": "stream",
     "text": [
      "Epoch 17/20: 100%|██████████| 40/40 [01:07<00:00,  1.69s/it]\n"
     ]
    },
    {
     "name": "stdout",
     "output_type": "stream",
     "text": [
      "Epoch 17/20    : Loss 0.006667444831691682\n"
     ]
    },
    {
     "name": "stderr",
     "output_type": "stream",
     "text": [
      "Epoch 18/20: 100%|██████████| 40/40 [01:10<00:00,  1.76s/it]\n"
     ]
    },
    {
     "name": "stdout",
     "output_type": "stream",
     "text": [
      "Epoch 18/20    : Loss 0.006960406666621566\n"
     ]
    },
    {
     "name": "stderr",
     "output_type": "stream",
     "text": [
      "Epoch 19/20: 100%|██████████| 40/40 [01:08<00:00,  1.70s/it]\n"
     ]
    },
    {
     "name": "stdout",
     "output_type": "stream",
     "text": [
      "Epoch 19/20    : Loss 0.006498239014763385\n"
     ]
    },
    {
     "name": "stderr",
     "output_type": "stream",
     "text": [
      "Epoch 20/20: 100%|██████████| 40/40 [01:07<00:00,  1.68s/it]"
     ]
    },
    {
     "name": "stdout",
     "output_type": "stream",
     "text": [
      "Epoch 20/20    : Loss 0.005315954145044088\n"
     ]
    },
    {
     "name": "stderr",
     "output_type": "stream",
     "text": [
      "\n"
     ]
    }
   ],
   "source": [
    "svdd_one_class.train(train_cifar)"
   ]
  },
  {
   "cell_type": "code",
   "execution_count": 8,
   "id": "be4274fd",
   "metadata": {},
   "outputs": [
    {
     "name": "stderr",
     "output_type": "stream",
     "text": [
      "Epoch 1/20: 100%|██████████| 40/40 [01:07<00:00,  1.69s/it]\n"
     ]
    },
    {
     "name": "stdout",
     "output_type": "stream",
     "text": [
      "Epoch 1/20    : Loss 1100.5085960388183\n"
     ]
    },
    {
     "name": "stderr",
     "output_type": "stream",
     "text": [
      "Epoch 2/20: 100%|██████████| 40/40 [01:07<00:00,  1.68s/it]\n"
     ]
    },
    {
     "name": "stdout",
     "output_type": "stream",
     "text": [
      "Epoch 2/20    : Loss 252.5817008972168\n"
     ]
    },
    {
     "name": "stderr",
     "output_type": "stream",
     "text": [
      "Epoch 3/20: 100%|██████████| 40/40 [01:06<00:00,  1.66s/it]\n"
     ]
    },
    {
     "name": "stdout",
     "output_type": "stream",
     "text": [
      "Epoch 3/20    : Loss 79.8305233001709\n"
     ]
    },
    {
     "name": "stderr",
     "output_type": "stream",
     "text": [
      "Epoch 4/20: 100%|██████████| 40/40 [01:06<00:00,  1.67s/it]\n"
     ]
    },
    {
     "name": "stdout",
     "output_type": "stream",
     "text": [
      "Epoch 4/20    : Loss 13.423103272914886\n"
     ]
    },
    {
     "name": "stderr",
     "output_type": "stream",
     "text": [
      "Epoch 5/20: 100%|██████████| 40/40 [01:07<00:00,  1.69s/it]\n"
     ]
    },
    {
     "name": "stdout",
     "output_type": "stream",
     "text": [
      "Epoch 5/20    : Loss 2.1190527945756914\n"
     ]
    },
    {
     "name": "stderr",
     "output_type": "stream",
     "text": [
      "Epoch 6/20: 100%|██████████| 40/40 [01:06<00:00,  1.67s/it]\n"
     ]
    },
    {
     "name": "stdout",
     "output_type": "stream",
     "text": [
      "Epoch 6/20    : Loss 0.775987109541893\n"
     ]
    },
    {
     "name": "stderr",
     "output_type": "stream",
     "text": [
      "Epoch 7/20: 100%|██████████| 40/40 [01:07<00:00,  1.68s/it]\n"
     ]
    },
    {
     "name": "stdout",
     "output_type": "stream",
     "text": [
      "Epoch 7/20    : Loss 0.45179281905293467\n"
     ]
    },
    {
     "name": "stderr",
     "output_type": "stream",
     "text": [
      "Epoch 8/20: 100%|██████████| 40/40 [01:06<00:00,  1.67s/it]\n"
     ]
    },
    {
     "name": "stdout",
     "output_type": "stream",
     "text": [
      "Epoch 8/20    : Loss 0.2978446014225483\n"
     ]
    },
    {
     "name": "stderr",
     "output_type": "stream",
     "text": [
      "Epoch 9/20: 100%|██████████| 40/40 [01:07<00:00,  1.68s/it]\n"
     ]
    },
    {
     "name": "stdout",
     "output_type": "stream",
     "text": [
      "Epoch 9/20    : Loss 0.28913251906633375\n"
     ]
    },
    {
     "name": "stderr",
     "output_type": "stream",
     "text": [
      "Epoch 10/20: 100%|██████████| 40/40 [01:06<00:00,  1.67s/it]\n"
     ]
    },
    {
     "name": "stdout",
     "output_type": "stream",
     "text": [
      "Epoch 10/20    : Loss 0.4818857941776514\n"
     ]
    },
    {
     "name": "stderr",
     "output_type": "stream",
     "text": [
      "Epoch 11/20: 100%|██████████| 40/40 [01:07<00:00,  1.68s/it]\n"
     ]
    },
    {
     "name": "stdout",
     "output_type": "stream",
     "text": [
      "Epoch 11/20    : Loss 0.15005304627120494\n"
     ]
    },
    {
     "name": "stderr",
     "output_type": "stream",
     "text": [
      "Epoch 12/20: 100%|██████████| 40/40 [01:07<00:00,  1.68s/it]\n"
     ]
    },
    {
     "name": "stdout",
     "output_type": "stream",
     "text": [
      "Epoch 12/20    : Loss 0.12112637367099524\n"
     ]
    },
    {
     "name": "stderr",
     "output_type": "stream",
     "text": [
      "Epoch 13/20: 100%|██████████| 40/40 [01:06<00:00,  1.67s/it]\n"
     ]
    },
    {
     "name": "stdout",
     "output_type": "stream",
     "text": [
      "Epoch 13/20    : Loss 0.11406836751848459\n"
     ]
    },
    {
     "name": "stderr",
     "output_type": "stream",
     "text": [
      "Epoch 14/20: 100%|██████████| 40/40 [01:07<00:00,  1.68s/it]\n"
     ]
    },
    {
     "name": "stdout",
     "output_type": "stream",
     "text": [
      "Epoch 14/20    : Loss 0.12666364777833222\n"
     ]
    },
    {
     "name": "stderr",
     "output_type": "stream",
     "text": [
      "Epoch 15/20: 100%|██████████| 40/40 [01:07<00:00,  1.69s/it]\n"
     ]
    },
    {
     "name": "stdout",
     "output_type": "stream",
     "text": [
      "Epoch 15/20    : Loss 0.08611563611775637\n"
     ]
    },
    {
     "name": "stderr",
     "output_type": "stream",
     "text": [
      "Epoch 16/20: 100%|██████████| 40/40 [01:07<00:00,  1.69s/it]\n"
     ]
    },
    {
     "name": "stdout",
     "output_type": "stream",
     "text": [
      "Epoch 16/20    : Loss 0.07220837268978357\n"
     ]
    },
    {
     "name": "stderr",
     "output_type": "stream",
     "text": [
      "Epoch 17/20: 100%|██████████| 40/40 [01:07<00:00,  1.68s/it]\n"
     ]
    },
    {
     "name": "stdout",
     "output_type": "stream",
     "text": [
      "Epoch 17/20    : Loss 0.07275192979723215\n"
     ]
    },
    {
     "name": "stderr",
     "output_type": "stream",
     "text": [
      "Epoch 18/20: 100%|██████████| 40/40 [01:07<00:00,  1.68s/it]\n"
     ]
    },
    {
     "name": "stdout",
     "output_type": "stream",
     "text": [
      "Epoch 18/20    : Loss 0.06186887500807643\n"
     ]
    },
    {
     "name": "stderr",
     "output_type": "stream",
     "text": [
      "Epoch 19/20: 100%|██████████| 40/40 [01:07<00:00,  1.70s/it]\n"
     ]
    },
    {
     "name": "stdout",
     "output_type": "stream",
     "text": [
      "Epoch 19/20    : Loss 0.05256249336525798\n"
     ]
    },
    {
     "name": "stderr",
     "output_type": "stream",
     "text": [
      "Epoch 20/20: 100%|██████████| 40/40 [01:07<00:00,  1.69s/it]"
     ]
    },
    {
     "name": "stdout",
     "output_type": "stream",
     "text": [
      "Epoch 20/20    : Loss 0.05362355001270771\n"
     ]
    },
    {
     "name": "stderr",
     "output_type": "stream",
     "text": [
      "\n"
     ]
    }
   ],
   "source": [
    "svdd_soft_boundary.train(train_cifar)"
   ]
  },
  {
   "cell_type": "code",
   "execution_count": 9,
   "id": "899a7eb3",
   "metadata": {},
   "outputs": [
    {
     "data": {
      "image/png": "[encoded data removed]",
      "text/plain": [
       "<Figure size 500x300 with 1 Axes>"
      ]
     },
     "metadata": {},
     "output_type": "display_data"
    }
   ],
   "source": [
    "x = list(range(svdd_one_class.n_epoch))\n",
    "y_one_class = svdd_one_class.epoch_losses\n",
    "y_soft_boundary = svdd_soft_boundary.epoch_losses\n",
    "plt.figure(figsize=(5,3))\n",
    "plt.plot(x, y_one_class,color=\"red\", label=\"one-class\", linestyle=\"-\", alpha=0.7)\n",
    "plt.plot(x, y_soft_boundary, color=\"blue\", label=\"soft-boundary\", linestyle=\"--\", alpha=0.7)\n",
    "plt.title(\"Loss Value Per Epoch in Training\")\n",
    "plt.xlabel(\"Epoch Number\")\n",
    "plt.ylabel(\"Loss Value\")\n",
    "plt.xticks(x)\n",
    "plt.legend(loc=\"upper right\", bbox_to_anchor=(1.4,1))\n",
    "\n",
    "plt.show()"
   ]
  },
  {
   "cell_type": "code",
   "execution_count": 10,
   "id": "485c9f53",
   "metadata": {},
   "outputs": [],
   "source": [
    "svdd_one_class.test(test_cifar)\n",
    "svdd_soft_boundary.test(test_cifar)"
   ]
  },
  {
   "cell_type": "code",
   "execution_count": 23,
   "id": "e2d5980a",
   "metadata": {},
   "outputs": [],
   "source": [
    "deep_iso_forest = DeepIsolationForest(\"resnet18\", n_epochs=3, device=device)"
   ]
  },
  {
   "cell_type": "code",
   "execution_count": 24,
   "id": "05285962",
   "metadata": {},
   "outputs": [
    {
     "name": "stderr",
     "output_type": "stream",
     "text": [
      "Epoch 1 / 3: 100%|██████████| 391/391 [11:34<00:00,  1.78s/it]\n"
     ]
    },
    {
     "name": "stdout",
     "output_type": "stream",
     "text": [
      "Epoch 1/3    : Loss2.5002363526912603\n"
     ]
    },
    {
     "name": "stderr",
     "output_type": "stream",
     "text": [
      "Epoch 2 / 3: 100%|██████████| 391/391 [11:35<00:00,  1.78s/it]\n"
     ]
    },
    {
     "name": "stdout",
     "output_type": "stream",
     "text": [
      "Epoch 2/3    : Loss1.606208004305125\n"
     ]
    },
    {
     "name": "stderr",
     "output_type": "stream",
     "text": [
      "Epoch 3 / 3: 100%|██████████| 391/391 [11:34<00:00,  1.78s/it]\n"
     ]
    },
    {
     "name": "stdout",
     "output_type": "stream",
     "text": [
      "Epoch 3/3    : Loss1.4679268595507688\n",
      "Getting the features..\n",
      "Getting the features has finished.\n"
     ]
    }
   ],
   "source": [
    "deep_iso_forest.fit(train_cifar_forest)"
   ]
  },
  {
   "cell_type": "code",
   "execution_count": 25,
   "id": "4757ef6c",
   "metadata": {},
   "outputs": [
    {
     "name": "stdout",
     "output_type": "stream",
     "text": [
      "Getting the features..\n",
      "Getting the features has finished.\n"
     ]
    }
   ],
   "source": [
    "deep_iso_forest.predict(test_cifar)"
   ]
  },
  {
   "cell_type": "code",
   "execution_count": 26,
   "id": "74534572",
   "metadata": {},
   "outputs": [
    {
     "name": "stdout",
     "output_type": "stream",
     "text": [
      "One Class Deep SVDD AUC TEST: 0.5397672222222222\n",
      "Soft Boundary Deep SVDD AUC TEST: 0.6449778333333334\n",
      "Isolation Forest AUC TEST: 0.34231188888888886\n"
     ]
    }
   ],
   "source": [
    "print(f\"One Class Deep SVDD AUC TEST: {svdd_one_class.test_auc}\")\n",
    "print(f\"Soft Boundary Deep SVDD AUC TEST: {svdd_soft_boundary.test_auc}\")\n",
    "print(f\"Isolation Forest AUC TEST: {deep_iso_forest.test_auc}\")"
   ]
  },
  {
   "cell_type": "code",
   "execution_count": 27,
   "id": "7073f981",
   "metadata": {},
   "outputs": [],
   "source": [
    "def get_auc_and_time_data(model):\n",
    "    test_auc = f\"{model.test_auc:.3f}\"\n",
    "    if isinstance(model, DeepIsolationForest):\n",
    "        train_model_time = float(f\"{model.train_time_model:.3f}\")\n",
    "        train_forest_time = float(f\"{model.train_time_forest:.3f}\")\n",
    "        train_total_time = float(f\"{(model.train_time_model+model.train_time_forest):.3f}\")\n",
    "    else:\n",
    "        train_model_time = float(f\"{model.train_time:.3f}\")\n",
    "        train_forest_time = pd.NA\n",
    "        train_total_time = train_model_time\n",
    "    return (test_auc, train_total_time, train_model_time, train_forest_time)"
   ]
  },
  {
   "cell_type": "code",
   "execution_count": 18,
   "id": "d4333e21",
   "metadata": {},
   "outputs": [
    {
     "name": "stdout",
     "output_type": "stream",
     "text": [
      "                           auc total_time model_time forest_time\n",
      "one-class deep svdd      0.540       22.0       22.0        <NA>\n",
      "soft-boundary deep svdd  0.645       22.0       22.0        <NA>\n",
      "deep isolation forest    0.357   2092.978   2088.978         4.0\n"
     ]
    }
   ],
   "source": [
    "import numpy as np\n",
    "data = np.array([[*get_auc_and_time_data(svdd_one_class)],\n",
    "        [*get_auc_and_time_data(svdd_soft_boundary)],\n",
    "        [*get_auc_and_time_data(deep_iso_forest)]])\n",
    "columns = [\"auc\", \"total_time\", \"model_time\", \"forest_time\"]\n",
    "indexes = [\"one-class deep svdd\", \"soft-boundary deep svdd\", \"deep isolation forest\"]\n",
    "df = pd.DataFrame(data=data, columns=columns, index=indexes)\n",
    "print(df)\n"
   ]
  },
  {
   "cell_type": "code",
   "execution_count": 33,
   "id": "5c061e51",
   "metadata": {},
   "outputs": [
    {
     "data": {
      "image/png": "[encoded data removed]",
      "text/plain": [
       "<Figure size 640x480 with 1 Axes>"
      ]
     },
     "metadata": {},
     "output_type": "display_data"
    }
   ],
   "source": [
    "models = ['One Class SVDD', 'Soft Boundary SVDD', 'Deep Isolation Forest']\n",
    "auc_score = data[:,0].astype(np.float64) \n",
    "total_time = data[:,1].astype(np.float64) * 0.001\n",
    "\n",
    "x = np.arange(len(models))  # the label locations\n",
    "width = 0.4  # width of each bar\n",
    "\n",
    "# Plot\n",
    "plt.bar(x - width/2, auc_score, width, label='AUC_SCORE')\n",
    "plt.bar(x + width/2, total_time, width, label='TİME')\n",
    "\n",
    "# Labels\n",
    "plt.xticks(x, models)\n",
    "plt.ylabel('Metric Value')\n",
    "plt.title('Model Metrics')\n",
    "plt.legend()\n",
    "\n",
    "plt.show()\n"
   ]
  },
  {
   "cell_type": "code",
   "execution_count": null,
   "id": "5b873579",
   "metadata": {},
   "outputs": [],
   "source": []
  }
 ],
 "metadata": {
  "kernelspec": {
   "display_name": ".venv",
   "language": "python",
   "name": "python3"
  },
  "language_info": {
   "codemirror_mode": {
    "name": "ipython",
    "version": 3
   },
   "file_extension": ".py",
   "mimetype": "text/x-python",
   "name": "python",
   "nbconvert_exporter": "python",
   "pygments_lexer": "ipython3",
   "version": "3.11.0"
  }
 },
 "nbformat": 4,
 "nbformat_minor": 5
}
